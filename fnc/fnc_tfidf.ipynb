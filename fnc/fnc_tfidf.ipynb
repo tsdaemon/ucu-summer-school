{
 "cells": [
  {
   "cell_type": "code",
   "execution_count": 26,
   "metadata": {
    "collapsed": true
   },
   "outputs": [],
   "source": [
    "import pandas as pd\n",
    "from sklearn.feature_extraction.text import TfidfVectorizer\n",
    "from scipy.sparse import lil_matrix\n",
    "from nltk import word_tokenize\n",
    "from nltk.corpus import stopwords\n",
    "from nltk.stem.snowball import SnowballStemmer\n",
    "import numpy as np\n",
    "from functools import reduce\n",
    "from sklearn.linear_model import LogisticRegression\n",
    "from sklearn.metrics import recall_score, precision_score, f1_score, accuracy_score\n",
    "import scipy.sparse as sps\n",
    "from scipy.spatial.distance import cosine\n",
    "import score as s"
   ]
  },
  {
   "cell_type": "code",
   "execution_count": 27,
   "metadata": {},
   "outputs": [
    {
     "data": {
      "text/html": [
       "<div>\n",
       "<style>\n",
       "    .dataframe thead tr:only-child th {\n",
       "        text-align: right;\n",
       "    }\n",
       "\n",
       "    .dataframe thead th {\n",
       "        text-align: left;\n",
       "    }\n",
       "\n",
       "    .dataframe tbody tr th {\n",
       "        vertical-align: top;\n",
       "    }\n",
       "</style>\n",
       "<table border=\"1\" class=\"dataframe\">\n",
       "  <thead>\n",
       "    <tr style=\"text-align: right;\">\n",
       "      <th></th>\n",
       "      <th>Headline</th>\n",
       "      <th>Stance</th>\n",
       "      <th>articleBody</th>\n",
       "    </tr>\n",
       "  </thead>\n",
       "  <tbody>\n",
       "    <tr>\n",
       "      <th>0</th>\n",
       "      <td>Police find mass graves with at least '15 bodi...</td>\n",
       "      <td>unrelated</td>\n",
       "      <td>Danny Boyle is directing the untitled film\\n\\n...</td>\n",
       "    </tr>\n",
       "    <tr>\n",
       "      <th>1</th>\n",
       "      <td>Seth Rogen to Play Apple’s Steve Wozniak</td>\n",
       "      <td>discuss</td>\n",
       "      <td>Danny Boyle is directing the untitled film\\n\\n...</td>\n",
       "    </tr>\n",
       "    <tr>\n",
       "      <th>2</th>\n",
       "      <td>Mexico police find mass grave near site 43 stu...</td>\n",
       "      <td>unrelated</td>\n",
       "      <td>Danny Boyle is directing the untitled film\\n\\n...</td>\n",
       "    </tr>\n",
       "    <tr>\n",
       "      <th>3</th>\n",
       "      <td>Mexico Says Missing Students Not Found In Firs...</td>\n",
       "      <td>unrelated</td>\n",
       "      <td>Danny Boyle is directing the untitled film\\n\\n...</td>\n",
       "    </tr>\n",
       "    <tr>\n",
       "      <th>4</th>\n",
       "      <td>New iOS 8 bug can delete all of your iCloud do...</td>\n",
       "      <td>unrelated</td>\n",
       "      <td>Danny Boyle is directing the untitled film\\n\\n...</td>\n",
       "    </tr>\n",
       "  </tbody>\n",
       "</table>\n",
       "</div>"
      ],
      "text/plain": [
       "                                            Headline     Stance  \\\n",
       "0  Police find mass graves with at least '15 bodi...  unrelated   \n",
       "1           Seth Rogen to Play Apple’s Steve Wozniak    discuss   \n",
       "2  Mexico police find mass grave near site 43 stu...  unrelated   \n",
       "3  Mexico Says Missing Students Not Found In Firs...  unrelated   \n",
       "4  New iOS 8 bug can delete all of your iCloud do...  unrelated   \n",
       "\n",
       "                                         articleBody  \n",
       "0  Danny Boyle is directing the untitled film\\n\\n...  \n",
       "1  Danny Boyle is directing the untitled film\\n\\n...  \n",
       "2  Danny Boyle is directing the untitled film\\n\\n...  \n",
       "3  Danny Boyle is directing the untitled film\\n\\n...  \n",
       "4  Danny Boyle is directing the untitled film\\n\\n...  "
      ]
     },
     "execution_count": 27,
     "metadata": {},
     "output_type": "execute_result"
    }
   ],
   "source": [
    "train_bodies = pd.read_csv('fnc/train_bodies.csv')\n",
    "train_stances = pd.read_csv('fnc/train_stances.csv')\n",
    "train = train_stances.merge(train_bodies, on='Body ID')\n",
    "del train['Body ID']\n",
    "train.head()"
   ]
  },
  {
   "cell_type": "code",
   "execution_count": 28,
   "metadata": {},
   "outputs": [
    {
     "data": {
      "text/html": [
       "<div>\n",
       "<style>\n",
       "    .dataframe thead tr:only-child th {\n",
       "        text-align: right;\n",
       "    }\n",
       "\n",
       "    .dataframe thead th {\n",
       "        text-align: left;\n",
       "    }\n",
       "\n",
       "    .dataframe tbody tr th {\n",
       "        vertical-align: top;\n",
       "    }\n",
       "</style>\n",
       "<table border=\"1\" class=\"dataframe\">\n",
       "  <thead>\n",
       "    <tr style=\"text-align: right;\">\n",
       "      <th></th>\n",
       "      <th>Headline</th>\n",
       "      <th>Stance</th>\n",
       "      <th>articleBody</th>\n",
       "    </tr>\n",
       "  </thead>\n",
       "  <tbody>\n",
       "    <tr>\n",
       "      <th>0</th>\n",
       "      <td>Ferguson riots: Pregnant woman loses eye after...</td>\n",
       "      <td>unrelated</td>\n",
       "      <td>A RESPECTED senior French police officer inves...</td>\n",
       "    </tr>\n",
       "    <tr>\n",
       "      <th>1</th>\n",
       "      <td>Apple Stores to install safes to secure gold A...</td>\n",
       "      <td>unrelated</td>\n",
       "      <td>A RESPECTED senior French police officer inves...</td>\n",
       "    </tr>\n",
       "    <tr>\n",
       "      <th>2</th>\n",
       "      <td>Pregnant woman loses eye after police shoot be...</td>\n",
       "      <td>unrelated</td>\n",
       "      <td>A RESPECTED senior French police officer inves...</td>\n",
       "    </tr>\n",
       "    <tr>\n",
       "      <th>3</th>\n",
       "      <td>We just found out the #Ferguson Protester who ...</td>\n",
       "      <td>unrelated</td>\n",
       "      <td>A RESPECTED senior French police officer inves...</td>\n",
       "    </tr>\n",
       "    <tr>\n",
       "      <th>4</th>\n",
       "      <td>Police Chief In Charge of Paris Attacks Commit...</td>\n",
       "      <td>discuss</td>\n",
       "      <td>A RESPECTED senior French police officer inves...</td>\n",
       "    </tr>\n",
       "  </tbody>\n",
       "</table>\n",
       "</div>"
      ],
      "text/plain": [
       "                                            Headline     Stance  \\\n",
       "0  Ferguson riots: Pregnant woman loses eye after...  unrelated   \n",
       "1  Apple Stores to install safes to secure gold A...  unrelated   \n",
       "2  Pregnant woman loses eye after police shoot be...  unrelated   \n",
       "3  We just found out the #Ferguson Protester who ...  unrelated   \n",
       "4  Police Chief In Charge of Paris Attacks Commit...    discuss   \n",
       "\n",
       "                                         articleBody  \n",
       "0  A RESPECTED senior French police officer inves...  \n",
       "1  A RESPECTED senior French police officer inves...  \n",
       "2  A RESPECTED senior French police officer inves...  \n",
       "3  A RESPECTED senior French police officer inves...  \n",
       "4  A RESPECTED senior French police officer inves...  "
      ]
     },
     "execution_count": 28,
     "metadata": {},
     "output_type": "execute_result"
    }
   ],
   "source": [
    "test_bodies = pd.read_csv('fnc/competition_test_bodies.csv')\n",
    "test_stances = pd.read_csv('fnc/competition_test_stances.csv')\n",
    "test = test_stances.merge(test_bodies, on='Body ID')\n",
    "del test['Body ID']\n",
    "test.head()"
   ]
  },
  {
   "cell_type": "code",
   "execution_count": 29,
   "metadata": {
    "collapsed": true
   },
   "outputs": [],
   "source": [
    "# collect all texts and train vectorizer\n",
    "def train_vectorizer(train, test):\n",
    "    train_bd = train['articleBody']\n",
    "    train_headline = train['Headline']\n",
    "    test_bd = test['articleBody']\n",
    "    test_headline = test['Headline']\n",
    "    all_texts = np.concatenate((train_bd, train_headline, test_bd, test_headline))\n",
    "    vectorizer = TfidfVectorizer(tokenizer=word_tokenize, stop_words=stopwords.words('english'), use_idf=True)\n",
    "    vectorizer.fit(all_texts)\n",
    "    return vectorizer"
   ]
  },
  {
   "cell_type": "code",
   "execution_count": 30,
   "metadata": {
    "collapsed": true
   },
   "outputs": [],
   "source": [
    "vectorizer = train_vectorizer(train,test)"
   ]
  },
  {
   "cell_type": "code",
   "execution_count": 31,
   "metadata": {
    "collapsed": true
   },
   "outputs": [],
   "source": [
    "# prepare tf-idf vectors for texts\n",
    "def extract_tfidf_vectors(df, vectorizer):\n",
    "    bd = df['articleBody']\n",
    "    headline = df['Headline']\n",
    "    bd_vector = vectorizer.transform(bd)\n",
    "    headline_vector = vectorizer.transform(headline)\n",
    "    return bd_vector, headline_vector"
   ]
  },
  {
   "cell_type": "code",
   "execution_count": 32,
   "metadata": {
    "collapsed": true
   },
   "outputs": [],
   "source": [
    "train_bd_vector, train_headline_vector = extract_tfidf_vectors(train, vectorizer)\n",
    "test_bd_vector, test_headline_vector = extract_tfidf_vectors(test, vectorizer)"
   ]
  },
  {
   "cell_type": "code",
   "execution_count": 33,
   "metadata": {
    "collapsed": true
   },
   "outputs": [],
   "source": [
    "def get_cosine(a, b):\n",
    "    return np.array([cosine(a[i].toarray(), b[i].toarray()) for i in range(a.shape[0])])\n",
    "\n",
    "train_cosine = get_cosine(train_bd_vector, train_headline_vector)\n",
    "test_cosine = get_cosine(test_bd_vector, test_headline_vector)"
   ]
  },
  {
   "cell_type": "code",
   "execution_count": 34,
   "metadata": {},
   "outputs": [
    {
     "data": {
      "text/plain": [
       "LogisticRegression(C=1.0, class_weight='balanced', dual=False,\n",
       "          fit_intercept=True, intercept_scaling=1, max_iter=100,\n",
       "          multi_class='ovr', n_jobs=1, penalty='l2', random_state=None,\n",
       "          solver='liblinear', tol=0.0001, verbose=0, warm_start=False)"
      ]
     },
     "execution_count": 34,
     "metadata": {},
     "output_type": "execute_result"
    }
   ],
   "source": [
    "# train first related-unrelated model\n",
    "model_related = LogisticRegression(class_weight='balanced')\n",
    "x_train = sps.hstack([train_bd_vector, train_headline_vector, np.expand_dims(train_cosine, axis = 1)])\n",
    "y_train = (train['Stance'] != 'unrelated').astype(int)\n",
    "\n",
    "model_related.fit(x_train, y_train)"
   ]
  },
  {
   "cell_type": "code",
   "execution_count": 35,
   "metadata": {
    "collapsed": true
   },
   "outputs": [],
   "source": [
    "x_test = sps.hstack([test_bd_vector, test_headline_vector, np.expand_dims(test_cosine, axis = 1)])\n",
    "y_test = (test['Stance'] != 'unrelated').astype(int)\n",
    "\n",
    "y_prediction = model_related.predict(x_test)"
   ]
  },
  {
   "cell_type": "code",
   "execution_count": 36,
   "metadata": {},
   "outputs": [
    {
     "data": {
      "text/plain": [
       "0.88788221970554926"
      ]
     },
     "execution_count": 36,
     "metadata": {},
     "output_type": "execute_result"
    }
   ],
   "source": [
    "recall_score(y_test, y_prediction)"
   ]
  },
  {
   "cell_type": "code",
   "execution_count": 37,
   "metadata": {},
   "outputs": [
    {
     "data": {
      "text/plain": [
       "0.96344086021505382"
      ]
     },
     "execution_count": 37,
     "metadata": {},
     "output_type": "execute_result"
    }
   ],
   "source": [
    "precision_score(y_test, y_prediction)"
   ]
  },
  {
   "cell_type": "code",
   "execution_count": 38,
   "metadata": {},
   "outputs": [
    {
     "data": {
      "text/plain": [
       "0.9241196404891705"
      ]
     },
     "execution_count": 38,
     "metadata": {},
     "output_type": "execute_result"
    }
   ],
   "source": [
    "f1_score(y_test, y_prediction)"
   ]
  },
  {
   "cell_type": "code",
   "execution_count": 39,
   "metadata": {},
   "outputs": [
    {
     "data": {
      "text/plain": [
       "0.95946956282217766"
      ]
     },
     "execution_count": 39,
     "metadata": {},
     "output_type": "execute_result"
    }
   ],
   "source": [
    "accuracy_score(y_test, y_prediction)"
   ]
  },
  {
   "cell_type": "code",
   "execution_count": 40,
   "metadata": {
    "collapsed": true
   },
   "outputs": [],
   "source": [
    "# now prepare discuss-agree-disagree classification\n",
    "train_d = train[train['Stance'] != 'unrelated']\n",
    "test_d = test[test['Stance'] != 'unrelated']\n",
    "\n",
    "vectorizer_d = train_vectorizer(train_d, test_d)\n",
    "\n",
    "train_bd_d_vector, train_headline_d_vector = extract_tfidf_vectors(train_d, vectorizer_d)\n",
    "test_bd_d_vector, test_headline_d_vector = extract_tfidf_vectors(test_d, vectorizer_d)"
   ]
  },
  {
   "cell_type": "code",
   "execution_count": 41,
   "metadata": {
    "collapsed": true
   },
   "outputs": [],
   "source": [
    "def label(n):\n",
    "    if n == \"agree\": return 0.0\n",
    "    if n == \"discuss\": return 1.0\n",
    "    if n == \"disagree\": return 2.0\n",
    "    if n == \"unrelated\": return 3.0\n",
    "    \n",
    "def unlabel(n):\n",
    "    if n == 0.0: return \"agree\"\n",
    "    if n == 1.0: return \"discuss\"\n",
    "    if n == 2.0: return \"disagree\"\n",
    "    if n == 3.0: return \"unrelated\""
   ]
  },
  {
   "cell_type": "code",
   "execution_count": 42,
   "metadata": {},
   "outputs": [
    {
     "data": {
      "text/plain": [
       "LogisticRegression(C=1.0, class_weight='balanced', dual=True,\n",
       "          fit_intercept=True, intercept_scaling=1, max_iter=100,\n",
       "          multi_class='ovr', n_jobs=1, penalty='l2', random_state=None,\n",
       "          solver='liblinear', tol=0.0001, verbose=0, warm_start=False)"
      ]
     },
     "execution_count": 42,
     "metadata": {},
     "output_type": "execute_result"
    }
   ],
   "source": [
    "train_d_cosine = get_cosine(train_bd_d_vector, train_headline_d_vector)\n",
    "test_d_cosine = get_cosine(test_bd_d_vector, test_headline_d_vector)\n",
    "\n",
    "model_discuss = LogisticRegression(class_weight='balanced', dual=True)\n",
    "x_train = sps.hstack([train_bd_d_vector, train_headline_d_vector, np.expand_dims(train_d_cosine, axis = 1)])\n",
    "y_train = train_d.apply(lambda row: label(row['Stance']), axis=1)\n",
    "model_discuss.fit(x_train, y_train)"
   ]
  },
  {
   "cell_type": "code",
   "execution_count": 43,
   "metadata": {},
   "outputs": [
    {
     "data": {
      "text/plain": [
       "array([ 1.,  1.,  1., ...,  1.,  1.,  1.])"
      ]
     },
     "execution_count": 43,
     "metadata": {},
     "output_type": "execute_result"
    }
   ],
   "source": [
    "x_test = sps.hstack([test_bd_d_vector, test_headline_d_vector, np.expand_dims(test_d_cosine, axis = 1)])\n",
    "y_test = test_d.apply(lambda row: label(row['Stance']), axis=1)\n",
    "y_prediction = model_discuss.predict(x_test)\n",
    "y_prediction"
   ]
  },
  {
   "cell_type": "code",
   "execution_count": 44,
   "metadata": {},
   "outputs": [
    {
     "data": {
      "text/plain": [
       "0.67483012457531144"
      ]
     },
     "execution_count": 44,
     "metadata": {},
     "output_type": "execute_result"
    }
   ],
   "source": [
    "accuracy_score(y_test, y_prediction)"
   ]
  },
  {
   "cell_type": "code",
   "execution_count": 45,
   "metadata": {},
   "outputs": [
    {
     "name": "stderr",
     "output_type": "stream",
     "text": [
      "/opt/miniconda/lib/python3.6/site-packages/ipykernel_launcher.py:7: DeprecationWarning: \n",
      ".ix is deprecated. Please use\n",
      ".loc for label based indexing or\n",
      ".iloc for positional indexing\n",
      "\n",
      "See the documentation here:\n",
      "http://pandas.pydata.org/pandas-docs/stable/indexing.html#deprecate_ix\n",
      "  import sys\n"
     ]
    },
    {
     "data": {
      "text/plain": [
       "0.87022390115295323"
      ]
     },
     "execution_count": 45,
     "metadata": {},
     "output_type": "execute_result"
    }
   ],
   "source": [
    "# full model. it should first predict 'related-unrelated' label, then for the related - predict 'agree-discuss-disagree'\n",
    "def predict(df, model, model_d, vectorizer, vectorizer_d):\n",
    "    bd_vector, headline_vector = extract_tfidf_vectors(df, vectorizer)\n",
    "    cosine = get_cosine(bd_vector, headline_vector)\n",
    "    x_rel = sps.hstack([bd_vector, headline_vector, np.expand_dims(cosine, axis = 1)])\n",
    "    y_rel = model.predict(x_rel)\n",
    "    df.ix[y_rel==0, 'y'] = 3\n",
    "    \n",
    "    df_d = df[y_rel == 1]\n",
    "    bd_d_vector, headline_d_vector = extract_tfidf_vectors(df_d, vectorizer_d)\n",
    "    cosine_d = get_cosine(bd_d_vector, headline_d_vector)\n",
    "    x_d = sps.hstack([bd_d_vector, headline_d_vector, np.expand_dims(cosine_d, axis = 1)])\n",
    "    y_d_pred = model.predict(x_d)\n",
    "    \n",
    "    df.ix[y_rel == 1, 'y'] = y_d_pred\n",
    "    #df.ix[y_d_pred==1, 'y'] = 1\n",
    "    #df.ix[y_d_pred==2, 'y'] = 2\n",
    "    return df['y']\n",
    "\n",
    "y_prediction = predict(test, model_related, model_discuss, vectorizer, vectorizer_d)\n",
    "y_test = test.apply(lambda row: label(row['Stance']), axis=1)\n",
    "accuracy_score(y_test, y_prediction)"
   ]
  },
  {
   "cell_type": "code",
   "execution_count": 46,
   "metadata": {},
   "outputs": [
    {
     "data": {
      "text/plain": [
       "LogisticRegression(C=1.0, class_weight='balanced', dual=False,\n",
       "          fit_intercept=True, intercept_scaling=1, max_iter=100,\n",
       "          multi_class='ovr', n_jobs=1, penalty='l2', random_state=None,\n",
       "          solver='liblinear', tol=0.0001, verbose=0, warm_start=False)"
      ]
     },
     "execution_count": 46,
     "metadata": {},
     "output_type": "execute_result"
    }
   ],
   "source": [
    "# it's a really complex model, why don't try usual multiclass logistic regression?\n",
    "model = LogisticRegression(class_weight='balanced')\n",
    "x_train = sps.hstack([train_bd_vector, train_headline_vector, np.expand_dims(train_cosine, axis = 1)])\n",
    "y_train = train.apply(lambda row: label(row['Stance']), axis=1) \n",
    "\n",
    "model_related.fit(x_train, y_train)"
   ]
  },
  {
   "cell_type": "code",
   "execution_count": 47,
   "metadata": {
    "collapsed": true
   },
   "outputs": [],
   "source": [
    "y_test = test.apply(lambda row: label(row['Stance']), axis=1) \n",
    "x_test = sps.hstack([test_bd_vector, test_headline_vector, np.expand_dims(test_cosine, axis = 1)])\n",
    "\n",
    "y_prediction = model_related.predict(x_test)"
   ]
  },
  {
   "cell_type": "code",
   "execution_count": 48,
   "metadata": {},
   "outputs": [
    {
     "data": {
      "text/plain": [
       "0.87640184157714551"
      ]
     },
     "execution_count": 48,
     "metadata": {},
     "output_type": "execute_result"
    }
   ],
   "source": [
    "accuracy_score(y_test, y_prediction)"
   ]
  },
  {
   "cell_type": "code",
   "execution_count": 49,
   "metadata": {},
   "outputs": [
    {
     "name": "stdout",
     "output_type": "stream",
     "text": [
      "-------------------------------------------------------------\n",
      "|           |   agree   | disagree  |  discuss  | unrelated |\n",
      "-------------------------------------------------------------\n",
      "|   agree   |   1032    |     1     |    511    |    359    |\n",
      "-------------------------------------------------------------\n",
      "| disagree  |    296    |     0     |    155    |    246    |\n",
      "-------------------------------------------------------------\n",
      "|  discuss  |    657    |     0     |   3042    |    765    |\n",
      "-------------------------------------------------------------\n",
      "| unrelated |    18     |     0     |    133    |   18198   |\n",
      "-------------------------------------------------------------\n",
      "Score: 9028.5 out of 11651.25\t(77.48953974895397%)\n"
     ]
    },
    {
     "data": {
      "text/plain": [
       "77.48953974895397"
      ]
     },
     "execution_count": 49,
     "metadata": {},
     "output_type": "execute_result"
    }
   ],
   "source": [
    "# looks like accuracy is better here. let's evaluate it with competition metric\n",
    "actual = list(test['Stance'])\n",
    "predicted = list(map(lambda x: unlabel(x), y_prediction))\n",
    "s.report_score(actual, predicted)"
   ]
  },
  {
   "cell_type": "code",
   "execution_count": null,
   "metadata": {
    "collapsed": true
   },
   "outputs": [],
   "source": []
  }
 ],
 "metadata": {
  "kernelspec": {
   "display_name": "Python 3",
   "language": "python",
   "name": "python3"
  },
  "language_info": {
   "codemirror_mode": {
    "name": "ipython",
    "version": 3
   },
   "file_extension": ".py",
   "mimetype": "text/x-python",
   "name": "python",
   "nbconvert_exporter": "python",
   "pygments_lexer": "ipython3",
   "version": "3.6.1"
  }
 },
 "nbformat": 4,
 "nbformat_minor": 2
}
