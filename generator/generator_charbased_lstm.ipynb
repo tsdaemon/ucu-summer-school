{
 "cells": [
  {
   "cell_type": "markdown",
   "metadata": {},
   "source": [
    "Just generation with pretrained models"
   ]
  },
  {
   "cell_type": "code",
   "execution_count": 5,
   "metadata": {},
   "outputs": [
    {
     "name": "stderr",
     "output_type": "stream",
     "text": [
      "Using TensorFlow backend.\n"
     ]
    }
   ],
   "source": [
    "import numpy\n",
    "from keras.models import Sequential\n",
    "from keras.layers import Dense\n",
    "from keras.layers import Dropout\n",
    "from keras.layers import LSTM\n",
    "from keras.callbacks import ModelCheckpoint\n",
    "from keras.utils import np_utils\n",
    "import os\n",
    "import re\n",
    "import sys\n",
    "import json"
   ]
  },
  {
   "cell_type": "code",
   "execution_count": 3,
   "metadata": {
    "collapsed": true
   },
   "outputs": [],
   "source": [
    "def readfile(fname):\n",
    "    with open(fname, 'r') as f:\n",
    "        return f.read().lower()\n",
    "\n",
    "def preprocess(poem):\n",
    "    # left only words\n",
    "    poem = re.sub('[^!а-яіїєА-ЯІЇЄ\\s\\,\\.\\-\\—\\:\\n\\!\\(\\)\\?’]', ' ', poem)\n",
    "    return poem.replace('\\t', '\\n')\n",
    "\n",
    "def readjson(fname):\n",
    "    with open(fname, 'r') as f:\n",
    "        return json.load(f)"
   ]
  },
  {
   "cell_type": "code",
   "execution_count": 6,
   "metadata": {},
   "outputs": [],
   "source": [
    "folder = './data/stus/'\n",
    "file = 'Stus_Vasyl.Tom_3_1.Palimpsesty.1576.ua.txt'\n",
    "raw_text = preprocess(readfile(folder + file))\n",
    "\n",
    "char_to_int = readjson('./model/4/char_to_int.json')\n",
    "int_to_char = readjson('./model/4/int_to_char.json')\n",
    "int_to_char = {int(k):v for k,v in int_to_char.items()}\n",
    "\n",
    "n_chars = len(raw_text)\n",
    "n_vocab = len(char_to_int)\n",
    "\n",
    "seq_length = 100\n",
    "dataX = []\n",
    "dataY = []\n",
    "for i in range(0, n_chars - seq_length, 1):\n",
    "    seq_in = raw_text[i:i + seq_length]\n",
    "    seq_out = raw_text[i + seq_length]\n",
    "    dataX.append([char_to_int[char] for char in seq_in])\n",
    "    dataY.append(char_to_int[seq_out])\n",
    "n_patterns = len(dataX)"
   ]
  },
  {
   "cell_type": "code",
   "execution_count": 2,
   "metadata": {},
   "outputs": [
    {
     "name": "stdout",
     "output_type": "stream",
     "text": [
      "char_to_int.json\t\t    weights-improvement-23-2.1634.hdf5\r\n",
      "int_to_char.json\t\t    weights-improvement-24-2.1497.hdf5\r\n",
      "weights-improvement-00-3.2531.hdf5  weights-improvement-25-2.1422.hdf5\r\n",
      "weights-improvement-01-3.1677.hdf5  weights-improvement-26-2.1302.hdf5\r\n",
      "weights-improvement-02-3.0998.hdf5  weights-improvement-27-2.1169.hdf5\r\n",
      "weights-improvement-03-2.9913.hdf5  weights-improvement-28-2.1146.hdf5\r\n",
      "weights-improvement-04-2.8765.hdf5  weights-improvement-29-2.1039.hdf5\r\n",
      "weights-improvement-05-2.7817.hdf5  weights-improvement-30-2.0911.hdf5\r\n",
      "weights-improvement-06-2.7056.hdf5  weights-improvement-31-2.0854.hdf5\r\n",
      "weights-improvement-07-2.6393.hdf5  weights-improvement-32-2.0796.hdf5\r\n",
      "weights-improvement-08-2.5820.hdf5  weights-improvement-33-2.0724.hdf5\r\n",
      "weights-improvement-09-2.5330.hdf5  weights-improvement-34-2.0577.hdf5\r\n",
      "weights-improvement-10-2.4907.hdf5  weights-improvement-35-2.0567.hdf5\r\n",
      "weights-improvement-11-2.4481.hdf5  weights-improvement-36-2.0556.hdf5\r\n",
      "weights-improvement-12-2.4128.hdf5  weights-improvement-37-2.0481.hdf5\r\n",
      "weights-improvement-13-2.3797.hdf5  weights-improvement-38-2.0422.hdf5\r\n",
      "weights-improvement-14-2.3478.hdf5  weights-improvement-40-2.0342.hdf5\r\n",
      "weights-improvement-15-2.3219.hdf5  weights-improvement-41-2.0295.hdf5\r\n",
      "weights-improvement-16-2.2974.hdf5  weights-improvement-42-2.0243.hdf5\r\n",
      "weights-improvement-17-2.2700.hdf5  weights-improvement-43-2.0203.hdf5\r\n",
      "weights-improvement-18-2.2503.hdf5  weights-improvement-44-2.0118.hdf5\r\n",
      "weights-improvement-19-2.2292.hdf5  weights-improvement-46-2.0062.hdf5\r\n",
      "weights-improvement-20-2.2133.hdf5  weights-improvement-47-2.0030.hdf5\r\n",
      "weights-improvement-21-2.1947.hdf5  weights-improvement-49-1.9976.hdf5\r\n",
      "weights-improvement-22-2.1793.hdf5\r\n"
     ]
    }
   ],
   "source": [
    "!ls ./model/4"
   ]
  },
  {
   "cell_type": "code",
   "execution_count": 8,
   "metadata": {},
   "outputs": [],
   "source": [
    "model_file = 'model/4/weights-improvement-49-1.9976.hdf5'\n",
    "model = Sequential()\n",
    "model.add(LSTM(256, input_shape=(100, 1), return_sequences=True))\n",
    "model.add(Dropout(0.3))\n",
    "model.add(LSTM(256))\n",
    "model.add(Dropout(0.3))\n",
    "model.add(Dense(44, activation='softmax'))\n",
    "model.load_weights(model_file)\n",
    "model.compile(loss='categorical_crossentropy', optimizer='adam')"
   ]
  },
  {
   "cell_type": "code",
   "execution_count": 9,
   "metadata": {},
   "outputs": [
    {
     "name": "stdout",
     "output_type": "stream",
     "text": [
      "Seed:\n",
      "\"емно і глибоко.\n",
      "так мудро нас страждання піднесло\n",
      "понад плавбою і понад собою,\n",
      "пускай на воду зламан\"\n",
      "а віть.\n",
      "і в соло колонобоять в солодих,\n",
      "толь даступаєи на столі солози\n",
      "і сонце замає у легання\n",
      "і від тебе не знаючись — на стрімуй\n",
      "і не віде в сонце засливі,\n",
      "і від тобі не віде в неме.\n",
      "і світ — на солодитий кров.\n",
      "аа та в сені за мертві  огорожий.\n",
      "так — ти в світ замалах — на віловом\n",
      " стовасти те порожне\n",
      "і від с і на віддайтя —\n",
      "лодий тонкостині  а відктить\n",
      "і в немов за порою. порного ж нами,\n",
      "а ти в нема стало навіли світло\n",
      "і високи світ — на солов’ях спогад.\n",
      "так — ти в світ замалах — на віловом\n",
      "\n",
      "скала ворони на мене від авлять\n",
      "і в немов порожнечу від тебе\n",
      "виз серевий світ — на стоію тінь.\n",
      "так — ти в світ замалах — на віловом\n",
      "\n",
      "і соіни  дем в світі — то тик — на віда?\n",
      "ти в сонце задубання віддайти.\n",
      "так де тобою серце стана\n",
      "і від ою і проминува ня від,\n",
      "порожин срай — на віловий срок\n",
      "за колом серця столі — на столі,\n",
      "та в сонце засту і стогі сток.\n",
      "і співаться в надій і срові с\n",
      "іта\n",
      "і тобі за сорому нолоні світа\n",
      "на стали не відч в немеерпно\n",
      "і висо твої сто промтори.\n",
      "немов одне — подад горою.\n",
      "я\n",
      "Done.\n"
     ]
    }
   ],
   "source": [
    "# pick a random seed\n",
    "start = numpy.random.randint(0, len(dataX)-1)\n",
    "pattern = dataX[start]\n",
    "print(\"Seed:\")\n",
    "print(\"\\\"{}\\\"\".format(''.join([int_to_char[value] for value in pattern])))\n",
    "# generate characters\n",
    "for i in range(1000):\n",
    "    x = numpy.reshape(pattern, (1, len(pattern), 1))\n",
    "    x = x / float(n_vocab)\n",
    "    prediction = model.predict(x, verbose=0)\n",
    "    index = numpy.argmax(prediction)\n",
    "    result = int_to_char[index]\n",
    "    seq_in = [int_to_char[value] for value in pattern]\n",
    "    sys.stdout.write(result)\n",
    "    pattern.append(index)\n",
    "    pattern = pattern[1:]\n",
    "    \n",
    "print(\"\\nDone.\")"
   ]
  },
  {
   "cell_type": "code",
   "execution_count": 17,
   "metadata": {},
   "outputs": [
    {
     "name": "stdout",
     "output_type": "stream",
     "text": [
      "                                                                      гойдається вечора зламана віть\n",
      ".\n",
      "і в соло коловини в світ —\n",
      "але порожнечу в світі —\n",
      "і відчує світа над норі най солоних\n",
      "повіки спогади і срертні сподівання.\n",
      "прощай, окріши немає проминіла\n",
      "в солодих кров полосіння.\n",
      "прощай, окрічен і крики\n",
      "за край мені за мене відча.\n",
      "і да віддавояю світ — на сто просторить\n",
      "і не забуття, на вітрі солози\n",
      "і солоді сене на віда.\n",
      "тож прощайт о небо над тобою\n",
      "за колоних мосни відчуи\n",
      "світ світання привікті, як привікт\n",
      "від сеелю і томтра на сорокка\n",
      "да солодитий світ — на сто простори\n",
      "порать на колов’у і кроки\n",
      "прощай, окран і полосі — на стила\n",
      "і світло заступали монця,\n",
      "скерти в громинути в стрінь.\n",
      "так — ти в світ замалах — на віловом\n",
      "\n",
      "скала ворони на мене від астий\n",
      "і вирокий світ — на сто промторить\n",
      "і не забуття полісиній\n",
      "і не знаю, що в соло колових\n",
      "коли на стрімує надав то  світ.\n",
      "тож посостий поров над провиллні\n",
      "солодаи соіпа світ — на сто простори\n",
      "і солодість в світі — то тике  аверени\n",
      "порожнечи від — то корокк світ.\n",
      "і спізнав останній везголосний світ.\n",
      "так — ти в світ замалах — на віловом\n",
      "\n",
      "Done.\n"
     ]
    }
   ],
   "source": [
    "pattern_str = \"гойдається вечора зламана віть\"\n",
    "pattern_str = \" \"*(100-len(pattern_str))+pattern_str\n",
    "pattern = [char_to_int[value] for value in pattern_str]\n",
    "print(pattern_str)\n",
    "# generate characters\n",
    "for i in range(1000):\n",
    "    x = numpy.reshape(pattern, (1, len(pattern), 1))\n",
    "    x = x / float(n_vocab)\n",
    "    prediction = model.predict(x, verbose=0)\n",
    "    index = numpy.argmax(prediction)\n",
    "    result = int_to_char[index]\n",
    "    seq_in = [int_to_char[value] for value in pattern]\n",
    "    sys.stdout.write(result)\n",
    "    pattern.append(index)\n",
    "    pattern = pattern[1:]\n",
    "    \n",
    "print(\"\\nDone.\")"
   ]
  },
  {
   "cell_type": "code",
   "execution_count": null,
   "metadata": {
    "collapsed": true
   },
   "outputs": [],
   "source": []
  }
 ],
 "metadata": {
  "kernelspec": {
   "display_name": "Python 3",
   "language": "python",
   "name": "python3"
  },
  "language_info": {
   "codemirror_mode": {
    "name": "ipython",
    "version": 3
   },
   "file_extension": ".py",
   "mimetype": "text/x-python",
   "name": "python",
   "nbconvert_exporter": "python",
   "pygments_lexer": "ipython3",
   "version": "3.6.1"
  }
 },
 "nbformat": 4,
 "nbformat_minor": 2
}
