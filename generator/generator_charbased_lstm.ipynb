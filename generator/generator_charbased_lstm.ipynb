{
 "cells": [
  {
   "cell_type": "markdown",
   "metadata": {},
   "source": [
    "Just generation with pretrained models"
   ]
  },
  {
   "cell_type": "code",
   "execution_count": 1,
   "metadata": {},
   "outputs": [
    {
     "name": "stderr",
     "output_type": "stream",
     "text": [
      "Using TensorFlow backend.\n"
     ]
    }
   ],
   "source": [
    "import numpy\n",
    "from keras.models import Sequential\n",
    "from keras.layers import Dense\n",
    "from keras.layers import Dropout\n",
    "from keras.layers import LSTM\n",
    "from keras.callbacks import ModelCheckpoint\n",
    "from keras.utils import np_utils\n",
    "import os\n",
    "import re\n",
    "import sys\n",
    "import json"
   ]
  },
  {
   "cell_type": "code",
   "execution_count": 2,
   "metadata": {
    "collapsed": true
   },
   "outputs": [],
   "source": [
    "def readfile(fname):\n",
    "    with open(fname, 'r') as f:\n",
    "        return f.read().lower()\n",
    "\n",
    "def preprocess(poem):\n",
    "    # left only words\n",
    "    poem = re.sub('[^!а-яіїєА-ЯІЇЄ\\s\\,\\.\\-\\—\\:\\n\\!\\(\\)\\?’]', ' ', poem)\n",
    "    return poem.replace('\\t', '\\n')\n",
    "\n",
    "def readjson(fname):\n",
    "    with open(fname, 'r') as f:\n",
    "        return json.load(f)"
   ]
  },
  {
   "cell_type": "code",
   "execution_count": 3,
   "metadata": {
    "collapsed": true
   },
   "outputs": [],
   "source": [
    "folder = './data/stus/'\n",
    "file = 'Stus_Vasyl.Tom_3_1.Palimpsesty.1576.ua.txt'\n",
    "raw_text = preprocess(readfile(folder + file))\n",
    "\n",
    "char_to_int = readjson('./model/5/char_to_int.json')\n",
    "int_to_char = readjson('./model/5/int_to_char.json')\n",
    "int_to_char = {int(k):v for k,v in int_to_char.items()}\n",
    "\n",
    "n_chars = len(raw_text)\n",
    "n_vocab = len(char_to_int)\n",
    "\n",
    "seq_length = 100\n",
    "dataX = []\n",
    "dataY = []\n",
    "for i in range(0, n_chars - seq_length, 1):\n",
    "    seq_in = raw_text[i:i + seq_length]\n",
    "    seq_out = raw_text[i + seq_length]\n",
    "    dataX.append([char_to_int[char] for char in seq_in])\n",
    "    dataY.append(char_to_int[seq_out])\n",
    "n_patterns = len(dataX)"
   ]
  },
  {
   "cell_type": "code",
   "execution_count": 5,
   "metadata": {},
   "outputs": [
    {
     "name": "stdout",
     "output_type": "stream",
     "text": [
      "char_to_int.json  int_to_char.json  weights-improvement-79-1.8094.hdf5\r\n"
     ]
    }
   ],
   "source": [
    "!ls ./model/5"
   ]
  },
  {
   "cell_type": "code",
   "execution_count": 8,
   "metadata": {},
   "outputs": [],
   "source": [
    "model_file = 'model/5/weights-improvement-79-1.8094.hdf5'\n",
    "model = Sequential()\n",
    "model.add(LSTM(256, input_shape=(100, 1), return_sequences=True))\n",
    "model.add(Dropout(0.3))\n",
    "model.add(LSTM(256, return_sequences=True))\n",
    "model.add(Dropout(0.3))\n",
    "model.add(LSTM(256))\n",
    "model.add(Dropout(0.3))\n",
    "model.add(Dense(44, activation='softmax'))\n",
    "model.load_weights(model_file)\n",
    "model.compile(loss='categorical_crossentropy', optimizer='adam')"
   ]
  },
  {
   "cell_type": "code",
   "execution_count": 9,
   "metadata": {},
   "outputs": [
    {
     "name": "stdout",
     "output_type": "stream",
     "text": [
      "Seed:\n",
      "\"оцих запон,\n",
      "в мені бо проросла зернина кожна\n",
      "і кожна плідна, і туга й неложна\n",
      "в собі зібгала крик ви\"\n",
      "соки сонце сон.\n",
      "і скнце сонце повілий стожори,\n",
      "на вітрі порога в світання\n",
      "повідіні в світі — на вітрі почози\n",
      "за себе відчути серце долоні,\n",
      "до сонця — на вітрі почози — ти збагнеш\n",
      "і від столо об собою на стіні,\n",
      "до серце повго долоні — то від тиої\n",
      "послухай на вітрі почози — ти стає,\n",
      "та все тиття — на вітрі почожнечи,\n",
      "на вітрі порога в світі за мертвий край.\n",
      "на вітрі подобами своє сорики.\n",
      "так порога — на вітрі почожнечі,\n",
      "до серце повго долі — на вітрі,\n",
      "на вітрі порога в світання\n",
      "повідіні в світі — на вітрі почози\n",
      "за себе відчути серце долони,\n",
      "до сонця — на вітрі почози — ти збагнеш\n",
      "і від столо об собою на стіні,\n",
      "до серце повго долоні — то від тиої\n",
      "послухай на вітрі почози — ти стає,\n",
      "та все тиття — на вітрі почожнечи,\n",
      "на вітрі порога в світі за мертвий край.\n",
      "на вітрі подобами своє сорики.\n",
      "так порога — на вітрі почожнечі,\n",
      "до серце повго долі — на вітрі,\n",
      "на вітрі порога в світання\n",
      "повідіні в світі — на вітрі почози\n",
      "за себе відчути серце долони,\n",
      "до сонця — на вітрі почози — ти збагнеш\n",
      "і від с\n",
      "Done.\n"
     ]
    }
   ],
   "source": [
    "# pick a random seed\n",
    "start = numpy.random.randint(0, len(dataX)-1)\n",
    "pattern = dataX[start]\n",
    "print(\"Seed:\")\n",
    "print(\"\\\"{}\\\"\".format(''.join([int_to_char[value] for value in pattern])))\n",
    "# generate characters\n",
    "for i in range(1000):\n",
    "    x = numpy.reshape(pattern, (1, len(pattern), 1))\n",
    "    x = x / float(n_vocab)\n",
    "    prediction = model.predict(x, verbose=0)\n",
    "    index = numpy.argmax(prediction)\n",
    "    result = int_to_char[index]\n",
    "    seq_in = [int_to_char[value] for value in pattern]\n",
    "    sys.stdout.write(result)\n",
    "    pattern.append(index)\n",
    "    pattern = pattern[1:]\n",
    "    \n",
    "print(\"\\nDone.\")"
   ]
  },
  {
   "cell_type": "code",
   "execution_count": 10,
   "metadata": {},
   "outputs": [
    {
     "name": "stdout",
     "output_type": "stream",
     "text": [
      "                                                                      гойдається вечора зламана віть\n",
      ".\n",
      "на вітрі порога в світання —\n",
      "за крайсвіту — на вітрі почожня\n",
      "на вітрі за серце в світання\n",
      "повідіні в світі — на вітрі почози\n",
      "за себе відчути серце долоні,\n",
      "до сонця — на вітрі почози — ти збагнеш\n",
      "і від столо об собою на стіні,\n",
      "до серце повго долоні — то від тиої\n",
      "послухай на вітрі почози — ти стає,\n",
      "та все тиття — на вітрі почожнечи,\n",
      "на вітрі порога в світі за мертвий край.\n",
      "на вітрі подобами своє сорики.\n",
      "так порога — на вітрі почожнечі,\n",
      "до серце повго долі — на вітрі,\n",
      "на вітрі порога в світання\n",
      "повідіні в світі — на вітрі почози\n",
      "за себе відчути серце долони,\n",
      "до сонця — на вітрі почози — ти збагнеш\n",
      "і від столо об собою на стіні,\n",
      "до серце повго долоні — то від тиої\n",
      "послухай на вітрі почози — ти стає,\n",
      "та все тиття — на вітрі почожнечи,\n",
      "на вітрі порога в світі за мертвий край.\n",
      "на вітрі подобами своє сорики.\n",
      "так порога — на вітрі почожнечі,\n",
      "до серце повго долі — на вітрі,\n",
      "на вітрі порога в світання\n",
      "повідіні в світі — на вітрі почози\n",
      "за себе відчути серце долони,\n",
      "до сонця — на вітрі почози — \n",
      "Done.\n"
     ]
    }
   ],
   "source": [
    "pattern_str = \"гойдається вечора зламана віть\"\n",
    "pattern_str = \" \"*(100-len(pattern_str))+pattern_str\n",
    "pattern = [char_to_int[value] for value in pattern_str]\n",
    "print(pattern_str)\n",
    "# generate characters\n",
    "for i in range(1000):\n",
    "    x = numpy.reshape(pattern, (1, len(pattern), 1))\n",
    "    x = x / float(n_vocab)\n",
    "    prediction = model.predict(x, verbose=0)\n",
    "    index = numpy.argmax(prediction)\n",
    "    result = int_to_char[index]\n",
    "    seq_in = [int_to_char[value] for value in pattern]\n",
    "    sys.stdout.write(result)\n",
    "    pattern.append(index)\n",
    "    pattern = pattern[1:]\n",
    "    \n",
    "print(\"\\nDone.\")"
   ]
  },
  {
   "cell_type": "code",
   "execution_count": null,
   "metadata": {
    "collapsed": true
   },
   "outputs": [],
   "source": []
  }
 ],
 "metadata": {
  "kernelspec": {
   "display_name": "Python 3",
   "language": "python",
   "name": "python3"
  },
  "language_info": {
   "codemirror_mode": {
    "name": "ipython",
    "version": 3
   },
   "file_extension": ".py",
   "mimetype": "text/x-python",
   "name": "python",
   "nbconvert_exporter": "python",
   "pygments_lexer": "ipython3",
   "version": "3.6.1"
  }
 },
 "nbformat": 4,
 "nbformat_minor": 2
}
