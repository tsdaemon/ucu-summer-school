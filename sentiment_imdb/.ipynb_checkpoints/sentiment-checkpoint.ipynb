{
 "cells": [
  {
   "cell_type": "code",
   "execution_count": 1,
   "metadata": {
    "collapsed": true
   },
   "outputs": [],
   "source": [
    "import os\n",
    "import pandas as pd\n",
    "from nltk import word_tokenize\n",
    "from nltk.corpus import stopwords\n",
    "import numpy as np\n",
    "from sklearn.feature_extraction.text import CountVectorizer,HashingVectorizer\n",
    "from sklearn.model_selection import StratifiedShuffleSplit\n",
    "import re\n",
    "from sklearn.linear_model import LogisticRegression\n",
    "from sklearn.metrics import roc_auc_score, precision_score, recall_score, f1_score"
   ]
  },
  {
   "cell_type": "code",
   "execution_count": 2,
   "metadata": {
    "collapsed": true
   },
   "outputs": [],
   "source": [
    "# read vocabulary\n",
    "sw = stopwords.words('english')\n",
    "\n",
    "def read_vocab(path):\n",
    "    with open(path, 'r') as f:\n",
    "        vocab = {}\n",
    "        i = 0\n",
    "        for word in filter(lambda x: x not in sw, f.read().split('\\n')):\n",
    "            vocab[word] = i\n",
    "            i += 1\n",
    "        return vocab\n",
    "\n",
    "vocab = read_vocab('./data/imdb.vocab')"
   ]
  },
  {
   "cell_type": "code",
   "execution_count": null,
   "metadata": {
    "collapsed": true
   },
   "outputs": [],
   "source": [
    "# read train directory\n",
    "def read_all_file(path):\n",
    "    with open(path, 'r') as f:\n",
    "        return f.read()\n",
    "    \n",
    "def path_to_category(path):\n",
    "    rating = int(re.search('\\_(\\d){1,2}\\.', path).groups()[0])\n",
    "    if rating <= 3: return 0\n",
    "    elif rating >= 7: return 2\n",
    "    else: return 1 \n",
    "    \n",
    "\n",
    "def read_texts_in_folder(path, category=None):\n",
    "    files = os.listdir(path)\n",
    "    df = pd.DataFrame(files, columns=['path'])\n",
    "    if category == None:\n",
    "        df['category'] = df.apply(lambda row: path_to_category(row['path']), axis=1)\n",
    "    else:\n",
    "        df['category'] = category\n",
    "    df['text'] = df.apply(lambda row: read_all_file(path + \"/\" +row['path']), axis=1)\n",
    "    return df\n",
    "\n",
    "df_train_pos = read_texts_in_folder('./data/train/pos', 1)\n",
    "df_train_neg = read_texts_in_folder('./data/train/neg', 0)"
   ]
  },
  {
   "cell_type": "code",
   "execution_count": null,
   "metadata": {
    "collapsed": true
   },
   "outputs": [],
   "source": [
    "# read test directory\n",
    "df_test_pos = read_texts_in_folder('./data/test/pos', 1)\n",
    "df_test_neg = read_texts_in_folder('./data/test/neg', 0)"
   ]
  },
  {
   "cell_type": "code",
   "execution_count": null,
   "metadata": {
    "collapsed": true
   },
   "outputs": [],
   "source": [
    "# concat all\n",
    "df_train = pd.concat([df_train_pos, df_train_neg])\n",
    "df_test = pd.concat([df_test_pos, df_test_neg])"
   ]
  },
  {
   "cell_type": "code",
   "execution_count": null,
   "metadata": {
    "collapsed": true
   },
   "outputs": [],
   "source": [
    "# encode bag of words\n",
    "vectorizer = CountVectorizer(analyzer='word', tokenizer=word_tokenize, vocabulary=vocab)\n",
    "X_test = vectorizer.transform(df_test['text'])\n",
    "y_test = np.array(df_test['category'])\n",
    "X_train = vectorizer.transform(df_train['text'])\n",
    "y_train = np.array(df_train['category'])"
   ]
  },
  {
   "cell_type": "code",
   "execution_count": null,
   "metadata": {
    "collapsed": true
   },
   "outputs": [],
   "source": [
    "# model\n",
    "model = LogisticRegression()\n",
    "model.fit(X_train, y_train)\n",
    "y_pred = model.predict_proba(X_test)"
   ]
  },
  {
   "cell_type": "code",
   "execution_count": null,
   "metadata": {},
   "outputs": [],
   "source": [
    "roc_auc_score(y_test, y_pred[:, 1])"
   ]
  },
  {
   "cell_type": "code",
   "execution_count": null,
   "metadata": {
    "collapsed": true
   },
   "outputs": [],
   "source": [
    "# encode bag of words with bigrams\n",
    "vectorizer2 = CountVectorizer(analyzer='word', tokenizer=word_tokenize, ngram_range=(1, 2))\n",
    "X_train = vectorizer2.fit_transform(df_train['text'])\n",
    "X_test = vectorizer2.transform(df_test['text'])"
   ]
  },
  {
   "cell_type": "code",
   "execution_count": null,
   "metadata": {},
   "outputs": [],
   "source": [
    "model2 = LogisticRegression()\n",
    "model2.fit(X_train, y_train)\n",
    "y_pred = model2.predict_proba(X_test)\n",
    "roc_auc_score(y_test, y_pred[:, 1])"
   ]
  },
  {
   "cell_type": "code",
   "execution_count": null,
   "metadata": {
    "collapsed": true
   },
   "outputs": [],
   "source": [
    "threshold = 0.5\n",
    "y_pred_binary = [1 if x > threshold else 0 for x in y_pred[:, 1]]"
   ]
  },
  {
   "cell_type": "code",
   "execution_count": null,
   "metadata": {},
   "outputs": [],
   "source": [
    "precision_score(y_test, y_pred_binary)"
   ]
  },
  {
   "cell_type": "code",
   "execution_count": null,
   "metadata": {},
   "outputs": [],
   "source": [
    "recall_score(y_test, y_pred_binary)"
   ]
  },
  {
   "cell_type": "code",
   "execution_count": null,
   "metadata": {},
   "outputs": [],
   "source": [
    "f1_score(y_test, y_pred_binary)"
   ]
  },
  {
   "cell_type": "code",
   "execution_count": null,
   "metadata": {
    "collapsed": true
   },
   "outputs": [],
   "source": [
    "vectorizer3 = CountVectorizer(analyzer='word', tokenizer=word_tokenize, ngram_range=(1, 3))\n",
    "X_train = vectorizer3.fit_transform(df_train['text'])\n",
    "X_test = vectorizer3.transform(df_test['text'])"
   ]
  },
  {
   "cell_type": "code",
   "execution_count": null,
   "metadata": {
    "collapsed": true
   },
   "outputs": [],
   "source": [
    "model3 = LogisticRegression()\n",
    "model3.fit(X_train, y_train)\n",
    "y_pred = model3.predict_proba(X_test)\n",
    "roc_auc_score(y_test, y_pred[:, 1])"
   ]
  },
  {
   "cell_type": "code",
   "execution_count": null,
   "metadata": {
    "collapsed": true
   },
   "outputs": [],
   "source": [
    "vectorizer4 = CountVectorizer(analyzer='char', tokenizer=word_tokenize, ngram_range=(1, 3))\n",
    "X_train = vectorizer4.fit_transform(df_train['text'])\n",
    "X_test = vectorizer4.transform(df_test['text'])"
   ]
  },
  {
   "cell_type": "code",
   "execution_count": null,
   "metadata": {},
   "outputs": [],
   "source": [
    "model4 = LogisticRegression()\n",
    "model4.fit(X_train, y_train)\n",
    "y_pred = model4.predict_proba(X_test)\n",
    "roc_auc_score(y_test, y_pred[:, 1])"
   ]
  },
  {
   "cell_type": "code",
   "execution_count": null,
   "metadata": {
    "collapsed": true
   },
   "outputs": [],
   "source": [
    "vectorizer5 = HashingVectorizer(analyzer='word', tokenizer=word_tokenize, ngram_range=(1, 2))\n",
    "X_train = vectorizer5.fit_transform(df_train['text'])\n",
    "X_test = vectorizer5.transform(df_test['text'])"
   ]
  },
  {
   "cell_type": "code",
   "execution_count": null,
   "metadata": {},
   "outputs": [],
   "source": [
    "model5 = LogisticRegression()\n",
    "model5.fit(X_train, y_train)\n",
    "y_pred = model5.predict_proba(X_test)\n",
    "roc_auc_score(y_test, y_pred[:, 1])"
   ]
  },
  {
   "cell_type": "code",
   "execution_count": null,
   "metadata": {
    "collapsed": true
   },
   "outputs": [],
   "source": [
    "vectorizer6 = HashingVectorizer(analyzer='word', tokenizer=word_tokenize, ngram_range=(1, 2), norm='l1')\n",
    "X_train = vectorizer6.fit_transform(df_train['text'])\n",
    "X_test = vectorizer6.transform(df_test['text'])"
   ]
  },
  {
   "cell_type": "code",
   "execution_count": null,
   "metadata": {},
   "outputs": [],
   "source": [
    "model6 = LogisticRegression()\n",
    "model6.fit(X_train, y_train)\n",
    "y_pred = model6.predict_proba(X_test)\n",
    "roc_auc_score(y_test, y_pred[:, 1])"
   ]
  }
 ],
 "metadata": {
  "kernelspec": {
   "display_name": "Python 3",
   "language": "python",
   "name": "python3"
  },
  "language_info": {
   "codemirror_mode": {
    "name": "ipython",
    "version": 3
   },
   "file_extension": ".py",
   "mimetype": "text/x-python",
   "name": "python",
   "nbconvert_exporter": "python",
   "pygments_lexer": "ipython3",
   "version": "3.6.1"
  }
 },
 "nbformat": 4,
 "nbformat_minor": 2
}
