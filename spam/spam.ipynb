{
 "cells": [
  {
   "cell_type": "code",
   "execution_count": 2,
   "metadata": {},
   "outputs": [
    {
     "data": {
      "text/html": [
       "<div>\n",
       "<style>\n",
       "    .dataframe thead tr:only-child th {\n",
       "        text-align: right;\n",
       "    }\n",
       "\n",
       "    .dataframe thead th {\n",
       "        text-align: left;\n",
       "    }\n",
       "\n",
       "    .dataframe tbody tr th {\n",
       "        vertical-align: top;\n",
       "    }\n",
       "</style>\n",
       "<table border=\"1\" class=\"dataframe\">\n",
       "  <thead>\n",
       "    <tr style=\"text-align: right;\">\n",
       "      <th></th>\n",
       "      <th>class</th>\n",
       "      <th>text</th>\n",
       "    </tr>\n",
       "  </thead>\n",
       "  <tbody>\n",
       "    <tr>\n",
       "      <th>1</th>\n",
       "      <td>0</td>\n",
       "      <td>Go until jurong point, crazy.. Available only ...</td>\n",
       "    </tr>\n",
       "    <tr>\n",
       "      <th>2</th>\n",
       "      <td>0</td>\n",
       "      <td>Ok lar... Joking wif u oni...</td>\n",
       "    </tr>\n",
       "    <tr>\n",
       "      <th>3</th>\n",
       "      <td>1</td>\n",
       "      <td>Free entry in 2 a wkly comp to win FA Cup fina...</td>\n",
       "    </tr>\n",
       "    <tr>\n",
       "      <th>4</th>\n",
       "      <td>0</td>\n",
       "      <td>U dun say so early hor... U c already then say...</td>\n",
       "    </tr>\n",
       "    <tr>\n",
       "      <th>5</th>\n",
       "      <td>0</td>\n",
       "      <td>Nah I don't think he goes to usf, he lives aro...</td>\n",
       "    </tr>\n",
       "  </tbody>\n",
       "</table>\n",
       "</div>"
      ],
      "text/plain": [
       "   class                                               text\n",
       "1      0  Go until jurong point, crazy.. Available only ...\n",
       "2      0                      Ok lar... Joking wif u oni...\n",
       "3      1  Free entry in 2 a wkly comp to win FA Cup fina...\n",
       "4      0  U dun say so early hor... U c already then say...\n",
       "5      0  Nah I don't think he goes to usf, he lives aro..."
      ]
     },
     "execution_count": 2,
     "metadata": {},
     "output_type": "execute_result"
    }
   ],
   "source": [
    "import pandas as pd\n",
    "\n",
    "df = pd.read_csv('spam.csv', encoding='latin-1', names=['class', 'text', '', '', ''], header=None)\n",
    "df = df[1:]\n",
    "df = df[['class', 'text']]\n",
    "df['class'] = (df['class'] == 'spam').astype(int)\n",
    "df.head()"
   ]
  },
  {
   "cell_type": "code",
   "execution_count": 3,
   "metadata": {},
   "outputs": [
    {
     "data": {
      "text/html": [
       "<div>\n",
       "<style>\n",
       "    .dataframe thead tr:only-child th {\n",
       "        text-align: right;\n",
       "    }\n",
       "\n",
       "    .dataframe thead th {\n",
       "        text-align: left;\n",
       "    }\n",
       "\n",
       "    .dataframe tbody tr th {\n",
       "        vertical-align: top;\n",
       "    }\n",
       "</style>\n",
       "<table border=\"1\" class=\"dataframe\">\n",
       "  <thead>\n",
       "    <tr style=\"text-align: right;\">\n",
       "      <th></th>\n",
       "      <th>class</th>\n",
       "      <th>text</th>\n",
       "    </tr>\n",
       "  </thead>\n",
       "  <tbody>\n",
       "    <tr>\n",
       "      <th>4913</th>\n",
       "      <td>1</td>\n",
       "      <td>Goal! Arsenal 4 (Henry, 7 v Liverpool 2 Henry ...</td>\n",
       "    </tr>\n",
       "    <tr>\n",
       "      <th>2542</th>\n",
       "      <td>0</td>\n",
       "      <td>I dont. Can you send it to me. Plus how's mode.</td>\n",
       "    </tr>\n",
       "    <tr>\n",
       "      <th>5324</th>\n",
       "      <td>0</td>\n",
       "      <td>Aah bless! How's your arm?</td>\n",
       "    </tr>\n",
       "    <tr>\n",
       "      <th>5172</th>\n",
       "      <td>0</td>\n",
       "      <td>Oh k. . I will come tomorrow</td>\n",
       "    </tr>\n",
       "    <tr>\n",
       "      <th>2533</th>\n",
       "      <td>0</td>\n",
       "      <td>Yup ok...</td>\n",
       "    </tr>\n",
       "  </tbody>\n",
       "</table>\n",
       "</div>"
      ],
      "text/plain": [
       "      class                                               text\n",
       "4913      1  Goal! Arsenal 4 (Henry, 7 v Liverpool 2 Henry ...\n",
       "2542      0    I dont. Can you send it to me. Plus how's mode.\n",
       "5324      0                         Aah bless! How's your arm?\n",
       "5172      0                       Oh k. . I will come tomorrow\n",
       "2533      0                                          Yup ok..."
      ]
     },
     "execution_count": 3,
     "metadata": {},
     "output_type": "execute_result"
    }
   ],
   "source": [
    "from sklearn.model_selection import StratifiedShuffleSplit\n",
    "\n",
    "sss = StratifiedShuffleSplit(n_splits=1, test_size=0.3, random_state=42)\n",
    "train_index, test_index = next(sss.split(df['text'], df['class']))\n",
    "df.iloc[train_index].head()"
   ]
  },
  {
   "cell_type": "code",
   "execution_count": 4,
   "metadata": {},
   "outputs": [
    {
     "data": {
      "text/plain": [
       "'Go until jurong point, crazy.. Available only in bugis n great world la e buffet... Cine there got amore wat...'"
      ]
     },
     "execution_count": 4,
     "metadata": {},
     "output_type": "execute_result"
    }
   ],
   "source": [
    "df.iloc[0].text"
   ]
  },
  {
   "cell_type": "code",
   "execution_count": 5,
   "metadata": {},
   "outputs": [
    {
     "data": {
      "text/plain": [
       "['Go',\n",
       " 'until',\n",
       " 'jurong',\n",
       " 'point',\n",
       " ',',\n",
       " 'crazy..',\n",
       " 'Available',\n",
       " 'only',\n",
       " 'in',\n",
       " 'bugis',\n",
       " 'n',\n",
       " 'great',\n",
       " 'world',\n",
       " 'la',\n",
       " 'e',\n",
       " 'buffet',\n",
       " '...',\n",
       " 'Cine',\n",
       " 'there',\n",
       " 'got',\n",
       " 'amore',\n",
       " 'wat',\n",
       " '...']"
      ]
     },
     "execution_count": 5,
     "metadata": {},
     "output_type": "execute_result"
    }
   ],
   "source": [
    "from nltk import word_tokenize\n",
    "\n",
    "tokens = word_tokenize(df.iloc[0].text)\n",
    "tokens"
   ]
  },
  {
   "cell_type": "code",
   "execution_count": 6,
   "metadata": {},
   "outputs": [
    {
     "data": {
      "text/plain": [
       "['Go',\n",
       " 'jurong',\n",
       " 'point',\n",
       " ',',\n",
       " 'crazy..',\n",
       " 'Available',\n",
       " 'bugis',\n",
       " 'n',\n",
       " 'great',\n",
       " 'world',\n",
       " 'la',\n",
       " 'e',\n",
       " 'buffet',\n",
       " '...',\n",
       " 'Cine',\n",
       " 'got',\n",
       " 'amore',\n",
       " 'wat',\n",
       " '...']"
      ]
     },
     "execution_count": 6,
     "metadata": {},
     "output_type": "execute_result"
    }
   ],
   "source": [
    "from nltk.corpus import stopwords\n",
    "\n",
    "filtered_tokens = list(filter(lambda x: x not in stopwords.words('english'), tokens) )\n",
    "filtered_tokens"
   ]
  },
  {
   "cell_type": "code",
   "execution_count": 7,
   "metadata": {},
   "outputs": [
    {
     "data": {
      "text/plain": [
       "['go',\n",
       " 'jurong',\n",
       " 'point',\n",
       " ',',\n",
       " 'crazy..',\n",
       " 'avail',\n",
       " 'bugi',\n",
       " 'n',\n",
       " 'great',\n",
       " 'world',\n",
       " 'la',\n",
       " 'e',\n",
       " 'buffet',\n",
       " '...',\n",
       " 'cine',\n",
       " 'got',\n",
       " 'amor',\n",
       " 'wat',\n",
       " '...']"
      ]
     },
     "execution_count": 7,
     "metadata": {},
     "output_type": "execute_result"
    }
   ],
   "source": [
    "from nltk.stem.snowball import SnowballStemmer\n",
    "stemmer = SnowballStemmer(\"english\")\n",
    "stemmed_tokens = [stemmer.stem(x) for x in filtered_tokens]\n",
    "stemmed_tokens"
   ]
  },
  {
   "cell_type": "code",
   "execution_count": 243,
   "metadata": {
    "collapsed": true
   },
   "outputs": [],
   "source": [
    "import math as m\n",
    "import random as rnd\n",
    "import re\n",
    "\n",
    "class NaiveBayesText():\n",
    "    def __init__(self, categories):\n",
    "        self.categories = categories\n",
    "        self.stemmer = SnowballStemmer('english')\n",
    "        self.stopwords = stopwords.words('english')\n",
    "        self.replace = {\n",
    "            'http|www\\.': 'weblink',\n",
    "            '\\d{3,}': '00000',\n",
    "            '\\d{1,3}': '11111',\n",
    "            '\\@': '@@@@@',\n",
    "            '\\d{1,2}\\.{\\d{1,2}}': 'timee',\n",
    "            '\\!': '!!!!!' \n",
    "        }\n",
    "        \n",
    "    def fit(self, texts, categories):\n",
    "        self.category_probabilities = {}\n",
    "        self.word_probabilities = {}\n",
    "        self.category_counts = {1:0, 0:0}\n",
    "        self.word_counts = {}\n",
    "        self.category_lengths = {1:0, 0:0}\n",
    "        \n",
    "        coll = zip(texts, categories)\n",
    "        for text, category in coll:\n",
    "            self._fit_one_text(text, category)\n",
    "            \n",
    "        assert sum(self.category_counts.values()) == len(texts)\n",
    "            \n",
    "        for c in self.categories:\n",
    "            self.category_probabilities[c] = self.category_counts[c]/len(texts)\n",
    "        \n",
    "        for word, counts in self.word_counts.items():\n",
    "            self.word_probabilities[word] = {}\n",
    "            \n",
    "            for c in self.categories:\n",
    "                self.word_probabilities[word][c] = (counts[c] + 1)/(counts['all'] + len(self.categories))\n",
    "                \n",
    "            assert sum(self.word_probabilities[word].values()) == 1\n",
    "                \n",
    "    def predict(self, texts):\n",
    "        word_probas = {}\n",
    "        probas = []\n",
    "        for text in texts:\n",
    "            proba = self._predict_one(text)\n",
    "            probas.append(proba)\n",
    "        return probas\n",
    "    \n",
    "    def generate(self, category, n):\n",
    "        s = ''\n",
    "        wp = list(self.word_probabilities.items())\n",
    "        i = 0\n",
    "        while i < n:\n",
    "            wl = len(wp)\n",
    "            windex = rnd.randint(0, wl)\n",
    "            w = wp[windex]\n",
    "            if rnd.random() < w[1][category]:\n",
    "                s += w[0] + ' '\n",
    "                i += 1\n",
    "        \n",
    "        return s\n",
    "    \n",
    "    def _predict_one(self, text):\n",
    "        stemmed_filtered_tokens = self._stem_tokenize_stop_words(text)\n",
    "        \n",
    "        log_proba_spam = self.category_probabilities[1] #m.log(self.category_probabilities[1])\n",
    "        log_proba_hum = self.category_probabilities[0] #m.log(self.category_probabilities[0])\n",
    "        for word in stemmed_filtered_tokens:\n",
    "            if word not in self.word_probabilities: continue\n",
    "                \n",
    "            log_proba_word_spam = self.word_probabilities[word][1] #m.log(self.word_probabilities[word][1])\n",
    "            log_proba_word_hum = self.word_probabilities[word][0] #m.log(self.word_probabilities[word][0])\n",
    "            log_proba_spam *= log_proba_word_spam\n",
    "            log_proba_hum *= log_proba_word_hum\n",
    "        \n",
    "        proba_spam = log_proba_spam#m.exp(log_proba_spam)\n",
    "        proba_hum = log_proba_hum#m.exp(log_proba_hum)\n",
    "        \n",
    "        return proba_spam/(proba_hum+proba_spam)\n",
    "    \n",
    "    def _smart_replace(self, token):\n",
    "        token = token.lower()\n",
    "        for pattern, replace in self.replace.items():\n",
    "            if re.search(pattern, token) is not None:\n",
    "                token = replace\n",
    "        return token\n",
    "    \n",
    "    def _smart_filter(self, token):\n",
    "        return len(token) > 4 and token not in self.stopwords\n",
    "        #return True\n",
    "        \n",
    "    def _stem_tokenize_stop_words(self, text):\n",
    "        return filter(self._smart_filter, [self._smart_replace(x) for x in word_tokenize(text)])\n",
    "            \n",
    "    def _fit_one_text(self, text, category):\n",
    "        stemmed_filtered_tokens = list(self._stem_tokenize_stop_words(text))\n",
    "            \n",
    "        self.category_counts[category] += 1\n",
    "        \n",
    "        for word in stemmed_filtered_tokens:\n",
    "            self._fit_one_word(word, category)\n",
    "            \n",
    "    def _fit_one_word(self, word, category):\n",
    "        if word not in self.word_counts:\n",
    "            self.word_counts[word] = {'all':0, 0:0, 1:0}\n",
    "        \n",
    "        self.word_counts[word][category] += 1\n",
    "        self.word_counts[word]['all'] += 1"
   ]
  },
  {
   "cell_type": "code",
   "execution_count": 244,
   "metadata": {},
   "outputs": [],
   "source": [
    "b = NaiveBayesText([0,1])\n",
    "b.fit(list(df.iloc[train_index]['text']), list(df.iloc[train_index]['class']))"
   ]
  },
  {
   "cell_type": "code",
   "execution_count": 245,
   "metadata": {},
   "outputs": [
    {
     "data": {
      "text/plain": [
       "'lucozade model..sony isn\\x89ûªt since addie wiskey andrews-boy rocking '"
      ]
     },
     "execution_count": 245,
     "metadata": {},
     "output_type": "execute_result"
    }
   ],
   "source": [
    "b.generate(1, 8)"
   ]
  },
  {
   "cell_type": "code",
   "execution_count": 246,
   "metadata": {
    "collapsed": true
   },
   "outputs": [],
   "source": [
    "prediction_train = b.predict(list(df.iloc[train_index]['text']))"
   ]
  },
  {
   "cell_type": "code",
   "execution_count": 247,
   "metadata": {},
   "outputs": [
    {
     "data": {
      "text/plain": [
       "0.97967479674796742"
      ]
     },
     "execution_count": 247,
     "metadata": {},
     "output_type": "execute_result"
    }
   ],
   "source": [
    "from sklearn.metrics import precision_score, recall_score, f1_score\n",
    "threshold = 0.5\n",
    "\n",
    "y_pred_train = [1 if x > threshold else 0 for x in prediction_train]\n",
    "y_true_train = list(df.iloc[train_index]['class'])\n",
    "precision_score(y_true_train, y_pred_train)"
   ]
  },
  {
   "cell_type": "code",
   "execution_count": 248,
   "metadata": {},
   "outputs": [
    {
     "data": {
      "text/plain": [
       "0.92160611854684515"
      ]
     },
     "execution_count": 248,
     "metadata": {},
     "output_type": "execute_result"
    }
   ],
   "source": [
    "recall_score(y_true_train, y_pred_train)"
   ]
  },
  {
   "cell_type": "code",
   "execution_count": 249,
   "metadata": {
    "collapsed": true
   },
   "outputs": [],
   "source": [
    "prediction = b.predict(list(df.iloc[test_index]['text']))"
   ]
  },
  {
   "cell_type": "code",
   "execution_count": 250,
   "metadata": {},
   "outputs": [
    {
     "data": {
      "text/plain": [
       "0.9563106796116505"
      ]
     },
     "execution_count": 250,
     "metadata": {},
     "output_type": "execute_result"
    }
   ],
   "source": [
    "threshold = 0.5\n",
    "\n",
    "y_pred = [1 if x > threshold else 0 for x in prediction]\n",
    "y_true = list(df.iloc[test_index]['class'])\n",
    "precision_score(y_true, y_pred)"
   ]
  },
  {
   "cell_type": "code",
   "execution_count": 251,
   "metadata": {},
   "outputs": [
    {
     "data": {
      "text/plain": [
       "0.8794642857142857"
      ]
     },
     "execution_count": 251,
     "metadata": {},
     "output_type": "execute_result"
    }
   ],
   "source": [
    "recall_score(y_true, y_pred)"
   ]
  },
  {
   "cell_type": "code",
   "execution_count": 252,
   "metadata": {},
   "outputs": [
    {
     "data": {
      "text/plain": [
       "0.91627906976744178"
      ]
     },
     "execution_count": 252,
     "metadata": {},
     "output_type": "execute_result"
    }
   ],
   "source": [
    "f1_score(y_true, y_pred)"
   ]
  },
  {
   "cell_type": "code",
   "execution_count": null,
   "metadata": {
    "collapsed": true
   },
   "outputs": [],
   "source": []
  }
 ],
 "metadata": {
  "kernelspec": {
   "display_name": "Python 3",
   "language": "python",
   "name": "python3"
  },
  "language_info": {
   "codemirror_mode": {
    "name": "ipython",
    "version": 3
   },
   "file_extension": ".py",
   "mimetype": "text/x-python",
   "name": "python",
   "nbconvert_exporter": "python",
   "pygments_lexer": "ipython3",
   "version": "3.6.1"
  }
 },
 "nbformat": 4,
 "nbformat_minor": 2
}
